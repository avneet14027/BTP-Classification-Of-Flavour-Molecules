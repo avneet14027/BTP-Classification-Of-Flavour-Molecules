{
 "metadata": {
  "name": "",
  "signature": "sha256:58854837cf7b88e6447cbb52ede7b2d2e3afae30e827b822be00bf0e4244e0b7"
 },
 "nbformat": 3,
 "nbformat_minor": 0,
 "worksheets": [
  {
   "cells": [
    {
     "cell_type": "code",
     "collapsed": false,
     "input": [
      "from collections import Counter\n",
      "import pandas as pd\n",
      "import re\n",
      "import os\n",
      "import xlrd\n",
      "\n",
      "#os.chdir('/Users/rudraksh/Google Drive/BitterTastePrediction/')\n"
     ],
     "language": "python",
     "metadata": {},
     "outputs": [],
     "prompt_number": 4
    },
    {
     "cell_type": "code",
     "collapsed": false,
     "input": [
      "rojas = pd.read_excel('Rojas.xlsx', header=None, skiprows=[0])\n",
      "rojas.columns = rojas.iloc[0]\n",
      "rojas = rojas.iloc[1:-18].reset_index()\n",
      "\n",
      "del rojas['index']\n",
      "rojas.head()\n",
      "rojas.shape"
     ],
     "language": "python",
     "metadata": {},
     "outputs": [
      {
       "metadata": {},
       "output_type": "pyout",
       "prompt_number": 15,
       "text": [
        "(649, 6)"
       ]
      }
     ],
     "prompt_number": 15
    },
    {
     "cell_type": "code",
     "collapsed": false,
     "input": [
      "s1 = pd.read_excel('Rojas.xlsx', sheetname=1, skiprows=[0])\n",
      "sweet_names = s1[s1['Class'] == 'Sweet']['Name'].tolist()\n",
      "bitter_names = s1[s1['Class'] == 'Bitter']['Name'].tolist()\n",
      "tasteless_names = s1[s1['Class'] == 'Tasteless']['Name'].tolist()"
     ],
     "language": "python",
     "metadata": {},
     "outputs": [],
     "prompt_number": 7
    },
    {
     "cell_type": "code",
     "collapsed": false,
     "input": [
      "s2 = pd.read_excel('Rojas.xlsx', sheetname=2, skiprows=[0])\n",
      "sweet_names += s2[s2['Class'] == 'Sweet']['Name'].tolist()\n",
      "bitter_names += s2[s2['Class'] == 'Bitter']['Name'].tolist()\n",
      "tasteless_names += s2[s2['Class'] == 'Tasteless']['Name'].tolist()\n"
     ],
     "language": "python",
     "metadata": {},
     "outputs": [],
     "prompt_number": 8
    },
    {
     "cell_type": "code",
     "collapsed": false,
     "input": [
      "len(tasteless_names)"
     ],
     "language": "python",
     "metadata": {},
     "outputs": [
      {
       "metadata": {},
       "output_type": "pyout",
       "prompt_number": 9,
       "text": [
        "1"
       ]
      }
     ],
     "prompt_number": 9
    },
    {
     "cell_type": "code",
     "collapsed": false,
     "input": [
      "s3 = pd.read_excel('Rojas.xlsx', sheetname=3, skiprows=[0])\n",
      "sweet_names += s3[s3['Class'] == 'Sweet']['Name'].tolist()\n",
      "bitter_names += s3[s3['Class'] == 'Bitter']['Name'].tolist()\n",
      "tasteless_names += s3[s3['Class'] == 'Tasteless']['Name'].tolist()"
     ],
     "language": "python",
     "metadata": {},
     "outputs": [],
     "prompt_number": 11
    },
    {
     "cell_type": "code",
     "collapsed": false,
     "input": [
      "print len(sweet_names),len(bitter_names),len(tasteless_names) "
     ],
     "language": "python",
     "metadata": {},
     "outputs": [
      {
       "output_type": "stream",
       "stream": "stdout",
       "text": [
        "435 81 133\n"
       ]
      }
     ],
     "prompt_number": 13
    },
    {
     "cell_type": "code",
     "collapsed": false,
     "input": [
      "435+81+133\n"
     ],
     "language": "python",
     "metadata": {},
     "outputs": [
      {
       "metadata": {},
       "output_type": "pyout",
       "prompt_number": 14,
       "text": [
        "649"
       ]
      }
     ],
     "prompt_number": 14
    },
    {
     "cell_type": "code",
     "collapsed": false,
     "input": [],
     "language": "python",
     "metadata": {},
     "outputs": []
    }
   ],
   "metadata": {}
  }
 ]
}