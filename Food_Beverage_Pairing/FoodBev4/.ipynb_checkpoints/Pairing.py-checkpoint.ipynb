{
 "metadata": {
  "kernelspec": {
   "display_name": "Python 3",
   "language": "python",
   "name": "python3"
  },
  "language_info": {
   "codemirror_mode": {
    "name": "ipython",
    "version": 3
   },
   "file_extension": ".py",
   "mimetype": "text/x-python",
   "name": "python",
   "nbconvert_exporter": "python",
   "pygments_lexer": "ipython3",
   "version": "3.5.2"
  },
  "name": "",
  "signature": "sha256:ea39f9dae1b3db2b8113b69dc159aaef96c39799926bbcab6e392d3de036a35a"
 },
 "nbformat": 3,
 "nbformat_minor": 0,
 "worksheets": [
  {
   "cells": [
    {
     "cell_type": "code",
     "collapsed": true,
     "input": [
      "import csv\n",
      "import pandas as pd\n",
      "from collections import Counter\n",
      "from operator import itemgetter\n",
      "import re"
     ],
     "language": "python",
     "metadata": {},
     "outputs": [],
     "prompt_number": 38
    },
    {
     "cell_type": "code",
     "collapsed": true,
     "input": [
      "recipe_ingredient = pd.read_csv('./Cuisine_Recipe_Ingredient.csv')"
     ],
     "language": "python",
     "metadata": {},
     "outputs": [],
     "prompt_number": 39
    },
    {
     "cell_type": "code",
     "collapsed": false,
     "input": [
      "recipe_ingredient.head()"
     ],
     "language": "python",
     "metadata": {},
     "outputs": [
      {
       "html": [
        "<div style=\"max-width:1500px;overflow:auto;\">\n",
        "<style>\n",
        "    .dataframe thead tr:only-child th {\n",
        "        text-align: right;\n",
        "    }\n",
        "\n",
        "    .dataframe thead th {\n",
        "        text-align: left;\n",
        "    }\n",
        "\n",
        "    .dataframe tbody tr th {\n",
        "        vertical-align: top;\n",
        "    }\n",
        "</style>\n",
        "<table border=\"1\" class=\"dataframe\">\n",
        "  <thead>\n",
        "    <tr style=\"text-align: right;\">\n",
        "      <th></th>\n",
        "      <th>Recipe Id</th>\n",
        "      <th>Aliased Ingredient_ID</th>\n",
        "    </tr>\n",
        "  </thead>\n",
        "  <tbody>\n",
        "    <tr>\n",
        "      <th>0</th>\n",
        "      <td>R000001</td>\n",
        "      <td>1008.0</td>\n",
        "    </tr>\n",
        "    <tr>\n",
        "      <th>1</th>\n",
        "      <td>R000001</td>\n",
        "      <td>1132.0</td>\n",
        "    </tr>\n",
        "    <tr>\n",
        "      <th>2</th>\n",
        "      <td>R000001</td>\n",
        "      <td>579.0</td>\n",
        "    </tr>\n",
        "    <tr>\n",
        "      <th>3</th>\n",
        "      <td>R000001</td>\n",
        "      <td>439.0</td>\n",
        "    </tr>\n",
        "    <tr>\n",
        "      <th>4</th>\n",
        "      <td>R000001</td>\n",
        "      <td>663.0</td>\n",
        "    </tr>\n",
        "  </tbody>\n",
        "</table>\n",
        "</div>"
       ],
       "metadata": {},
       "output_type": "pyout",
       "prompt_number": 40,
       "text": [
        "  Recipe Id  Aliased Ingredient_ID\n",
        "0   R000001                 1008.0\n",
        "1   R000001                 1132.0\n",
        "2   R000001                  579.0\n",
        "3   R000001                  439.0\n",
        "4   R000001                  663.0"
       ]
      }
     ],
     "prompt_number": 40
    },
    {
     "cell_type": "code",
     "collapsed": true,
     "input": [
      "ingredient_compound = pd.read_csv('./Compound_Details.csv') "
     ],
     "language": "python",
     "metadata": {},
     "outputs": [],
     "prompt_number": 41
    },
    {
     "cell_type": "code",
     "collapsed": false,
     "input": [
      "ingredient_compound.head()"
     ],
     "language": "python",
     "metadata": {},
     "outputs": [
      {
       "html": [
        "<div style=\"max-width:1500px;overflow:auto;\">\n",
        "<style>\n",
        "    .dataframe thead tr:only-child th {\n",
        "        text-align: right;\n",
        "    }\n",
        "\n",
        "    .dataframe thead th {\n",
        "        text-align: left;\n",
        "    }\n",
        "\n",
        "    .dataframe tbody tr th {\n",
        "        vertical-align: top;\n",
        "    }\n",
        "</style>\n",
        "<table border=\"1\" class=\"dataframe\">\n",
        "  <thead>\n",
        "    <tr style=\"text-align: right;\">\n",
        "      <th></th>\n",
        "      <th>Aliased Ingredient ID</th>\n",
        "      <th>Compound ID</th>\n",
        "    </tr>\n",
        "  </thead>\n",
        "  <tbody>\n",
        "    <tr>\n",
        "      <th>0</th>\n",
        "      <td>7</td>\n",
        "      <td>37</td>\n",
        "    </tr>\n",
        "    <tr>\n",
        "      <th>1</th>\n",
        "      <td>7</td>\n",
        "      <td>79</td>\n",
        "    </tr>\n",
        "    <tr>\n",
        "      <th>2</th>\n",
        "      <td>7</td>\n",
        "      <td>132</td>\n",
        "    </tr>\n",
        "    <tr>\n",
        "      <th>3</th>\n",
        "      <td>7</td>\n",
        "      <td>157</td>\n",
        "    </tr>\n",
        "    <tr>\n",
        "      <th>4</th>\n",
        "      <td>7</td>\n",
        "      <td>165</td>\n",
        "    </tr>\n",
        "  </tbody>\n",
        "</table>\n",
        "</div>"
       ],
       "metadata": {},
       "output_type": "pyout",
       "prompt_number": 42,
       "text": [
        "   Aliased Ingredient ID  Compound ID\n",
        "0                      7           37\n",
        "1                      7           79\n",
        "2                      7          132\n",
        "3                      7          157\n",
        "4                      7          165"
       ]
      }
     ],
     "prompt_number": 42
    },
    {
     "cell_type": "code",
     "collapsed": false,
     "input": [
      "compound_cas = pd.read_csv('./compound_cas.csv')\n",
      "compound_cas.head()\n",
      "compound_cas_dict = dict(zip(list(compound_cas[\"Compound Id\"]), list(compound_cas[\"CAS Number\"])))\n"
     ],
     "language": "python",
     "metadata": {},
     "outputs": [],
     "prompt_number": 43
    },
    {
     "cell_type": "code",
     "collapsed": true,
     "input": [
      "Recipe_id = []\n",
      "Recipe_id = recipe_ingredient[\"Recipe Id\"]"
     ],
     "language": "python",
     "metadata": {},
     "outputs": [],
     "prompt_number": 44
    },
    {
     "cell_type": "code",
     "collapsed": true,
     "input": [
      "unique_recipe = set(Recipe_id)\n",
      "unique_recipe_count = Counter(Recipe_id)"
     ],
     "language": "python",
     "metadata": {},
     "outputs": [],
     "prompt_number": 45
    },
    {
     "cell_type": "code",
     "collapsed": true,
     "input": [
      "unique_recipe_count = dict(unique_recipe_count)"
     ],
     "language": "python",
     "metadata": {},
     "outputs": [],
     "prompt_number": 46
    },
    {
     "cell_type": "code",
     "collapsed": false,
     "input": [
      "unique_recipe = list(unique_recipe)\n",
      "print(len(unique_recipe))"
     ],
     "language": "python",
     "metadata": {},
     "outputs": [
      {
       "output_type": "stream",
       "stream": "stdout",
       "text": [
        "99\n"
       ]
      }
     ],
     "prompt_number": 47
    },
    {
     "cell_type": "code",
     "collapsed": true,
     "input": [
      "recipe_details = pd.read_csv(\"Recipe_Details.csv\")\n",
      "#recipe_details"
     ],
     "language": "python",
     "metadata": {},
     "outputs": [],
     "prompt_number": 48
    },
    {
     "cell_type": "code",
     "collapsed": true,
     "input": [
      "\n",
      "recipe_mapping = {}\n",
      "recipe_mapping = dict(zip(list(recipe_details['Recipe ID']), list(recipe_details['Recipe Name'])))\n",
      "#recipe_mapping"
     ],
     "language": "python",
     "metadata": {},
     "outputs": [],
     "prompt_number": 49
    },
    {
     "cell_type": "markdown",
     "metadata": {},
     "source": [
      "<h3>Returns a list of compounds present in particular Ingredient using its Aliased Ingredient ID </h3>"
     ]
    },
    {
     "cell_type": "code",
     "collapsed": false,
     "input": [
      "def get_compound(id):\n",
      "    #print(id)\n",
      "    if(pd.isnull(id)):\n",
      "        #print(\"hello\")\n",
      "        return [0]\n",
      "    else:\n",
      "        compound_rows = ingredient_compound.loc[ingredient_compound['Aliased Ingredient ID'] == id]\n",
      "        #print(compound_rows)\n",
      "        my_list = compound_rows['Compound ID'].tolist()\n",
      "        return my_list\n",
      "    "
     ],
     "language": "python",
     "metadata": {},
     "outputs": [],
     "prompt_number": 50
    },
    {
     "cell_type": "markdown",
     "metadata": {},
     "source": [
      "<h3>For Each Recipe, this function returns a key value pair: <br>\n",
      "                key : Recipe Name<br>\n",
      "                value: Compunds Present<h3> "
     ]
    },
    {
     "cell_type": "code",
     "collapsed": false,
     "input": [
      "recipe_compound = {}\n",
      "for recipe in unique_recipe:\n",
      "    recipe_rows = recipe_ingredient.loc[recipe_ingredient['Recipe Id'] == recipe]\n",
      "    all_compounds = []\n",
      "    for index,row in recipe_rows.iterrows():\n",
      "        ing_comp = get_compound(row['Aliased Ingredient_ID'])\n",
      "        #print ing_comp\n",
      "        all_compounds.extend(ing_comp)\n",
      "    all_compounds_recipe = list(set(all_compounds))\n",
      "    recipe_compound[recipe] = all_compounds_recipe\n",
      "print(len(recipe_compound))"
     ],
     "language": "python",
     "metadata": {},
     "outputs": [
      {
       "output_type": "stream",
       "stream": "stdout",
       "text": [
        "99\n"
       ]
      }
     ],
     "prompt_number": 51
    },
    {
     "cell_type": "code",
     "collapsed": true,
     "input": [
      "#sorted(, lambda x: int(x.split()[-1]))\n",
      "match = (re.match(r\"([a-z]+)([0-9]+)\", \"fofoofofofof1234\", re.I).groups()[0])\n",
      "match\n",
      "#if match:\n",
      " #   items = match.groups()\n",
      "#items\n",
      "x = sorted(recipe_compound.items(), key=lambda v: int(re.match(r\"([a-z]+)([0-9]+)\", v[0], re.I).groups()[1]))\n",
      "#x #sorted(recipe_compound.keys())\n"
     ],
     "language": "python",
     "metadata": {},
     "outputs": [],
     "prompt_number": 52
    },
    {
     "cell_type": "markdown",
     "metadata": {},
     "source": [
      "<h4>Compute Common Compunds between Tea and other recipes<h4>"
     ]
    },
    {
     "cell_type": "code",
     "collapsed": false,
     "input": [
      "tea_molecules = pd.read_csv('./Tea_Molecules2.csv')\n",
      "tea_molecules.head()"
     ],
     "language": "python",
     "metadata": {},
     "outputs": [
      {
       "html": [
        "<div style=\"max-width:1500px;overflow:auto;\">\n",
        "<style>\n",
        "    .dataframe thead tr:only-child th {\n",
        "        text-align: right;\n",
        "    }\n",
        "\n",
        "    .dataframe thead th {\n",
        "        text-align: left;\n",
        "    }\n",
        "\n",
        "    .dataframe tbody tr th {\n",
        "        vertical-align: top;\n",
        "    }\n",
        "</style>\n",
        "<table border=\"1\" class=\"dataframe\">\n",
        "  <thead>\n",
        "    <tr style=\"text-align: right;\">\n",
        "      <th></th>\n",
        "      <th>Compound_ID</th>\n",
        "    </tr>\n",
        "  </thead>\n",
        "  <tbody>\n",
        "    <tr>\n",
        "      <th>0</th>\n",
        "      <td>1426</td>\n",
        "    </tr>\n",
        "    <tr>\n",
        "      <th>1</th>\n",
        "      <td>1355</td>\n",
        "    </tr>\n",
        "    <tr>\n",
        "      <th>2</th>\n",
        "      <td>1015</td>\n",
        "    </tr>\n",
        "    <tr>\n",
        "      <th>3</th>\n",
        "      <td>1427</td>\n",
        "    </tr>\n",
        "    <tr>\n",
        "      <th>4</th>\n",
        "      <td>1428</td>\n",
        "    </tr>\n",
        "  </tbody>\n",
        "</table>\n",
        "</div>"
       ],
       "metadata": {},
       "output_type": "pyout",
       "prompt_number": 53,
       "text": [
        "   Compound_ID\n",
        "0         1426\n",
        "1         1355\n",
        "2         1015\n",
        "3         1427\n",
        "4         1428"
       ]
      }
     ],
     "prompt_number": 53
    },
    {
     "cell_type": "code",
     "collapsed": true,
     "input": [
      "\n",
      "tea_molecules_list = tea_molecules['Compound_ID'].tolist()"
     ],
     "language": "python",
     "metadata": {},
     "outputs": [],
     "prompt_number": 54
    },
    {
     "cell_type": "code",
     "collapsed": false,
     "input": [
      "ranked_recipe = {}\n",
      "#print(len(recipe_compound))\n",
      "for a,b in x:\n",
      "    #print(a,b)\n",
      "        common_molecules = list(set(b).intersection(set(tea_molecules_list)))\n",
      "        ranked_recipe[a] = common_molecules\n",
      "        #print(key,common_molecules)\n",
      "#print(ranked_recipe)\n",
      "import operator\n",
      "match = (re.match(r\"([a-z]+)([0-9]+)\", \"fofoofofofof1234\", re.I).groups()[0])\n",
      "sorted_recipes = sorted(ranked_recipe.items(), key=lambda v: int(re.match(r\"([a-z]+)([0-9]+)\", v[0], re.I).groups()[1]))\n",
      "#sorted_recipes = (sorted(ranked_recipe.items(), key=operator.itemgetter(1),reverse=True))\n",
      "print(type(sorted_recipes))\n",
      "print(type(ranked_recipe))"
     ],
     "language": "python",
     "metadata": {},
     "outputs": [
      {
       "output_type": "stream",
       "stream": "stdout",
       "text": [
        "<type 'list'>\n",
        "<type 'dict'>\n"
       ]
      }
     ],
     "prompt_number": 55
    },
    {
     "cell_type": "code",
     "collapsed": true,
     "input": [
      "#final_recipes = sorted(sorted_recipes,key=itemgetter(0))\n",
      "#final_recipes\n",
      "#final_recipes"
     ],
     "language": "python",
     "metadata": {},
     "outputs": [],
     "prompt_number": 56
    },
    {
     "cell_type": "code",
     "collapsed": false,
     "input": [
      "with open('shared_molecules_Tea2.csv', 'w+') as f:\n",
      "    c = csv.writer(f)\n",
      "    c.writerow([\"Recipe ID\"] + [\"Recipe Name\"] + [\"shared_molecule_Compound_ID\"] + [\"Compound_CAS_Number\"])\n",
      "    for recipe in sorted_recipes:\n",
      "        for i in recipe[1]:\n",
      "            #print(recipe[0],recipe_mapping[recipe[0]],i)\n",
      "            c.writerow([recipe[0]] + [recipe_mapping[recipe[0]]]  + [i] + [compound_cas_dict[i]])"
     ],
     "language": "python",
     "metadata": {},
     "outputs": [],
     "prompt_number": 63
    },
    {
     "cell_type": "code",
     "collapsed": false,
     "input": [
      "no_of_molecules = {}\n",
      "for key,value in sorted_recipes:\n",
      "    no_of_molecules[key]=len(value)\n",
      "#print(no_of_molecules)\n",
      "final_recipes = sorted(no_of_molecules.items(), key=operator.itemgetter(1),reverse=True)\n",
      "#print(final_recipes)\n",
      "\n",
      "with open('shared_no_of_molecules_Tea2.csv', 'w+') as f:\n",
      "    c = csv.writer(f)\n",
      "    c.writerow([\"Recipe ID\"] + [\"Recipe Name\"] + [\"No_of_shared_molecules\"])\n",
      "    for recipe,value in final_recipes:\n",
      "        #for i in recipe[1]:\n",
      "        c.writerow([recipe] + [recipe_mapping[recipe]]  + [value])"
     ],
     "language": "python",
     "metadata": {},
     "outputs": [],
     "prompt_number": 64
    },
    {
     "cell_type": "code",
     "collapsed": true,
     "input": [
      "sorted_recipes_id = sorted_recipes\n",
      "with open('sorted_id_shared_no_Tea2.csv', 'w+') as f:\n",
      "    c = csv.writer(f)\n",
      "    c.writerow([\"Recipe ID\"] + [\"Recipe Name\"] + [\"No_of_shared_molecules\"])\n",
      "    for recipe,value in sorted_recipes_id:\n",
      "        #for i in recipe[1]:\n",
      "        c.writerow([recipe] + [recipe_mapping[recipe]]  + [len(value)])\n",
      "#print(sorted_recipes_id)\n"
     ],
     "language": "python",
     "metadata": {},
     "outputs": [],
     "prompt_number": 65
    },
    {
     "cell_type": "code",
     "collapsed": true,
     "input": [
      "#x is sorted recipe compund dictionary\n",
      "\n",
      "with open('shared_no_of_compounds_recipes.csv', 'w+') as f:\n",
      "    c = csv.writer(f)\n",
      "    c.writerow([\"Recipe ID 1\"] + [\"Recipe ID 2\"] + [\"No_of_shared_compounds\"])   \n",
      "    for i in range(len(x)):\n",
      "        for j in range(i+1,len(x)):\n",
      "            #print(x[i][0])\n",
      "            if((x[i][0])!=x[j][0]):\n",
      "                num_compounds = len(set(x[i][1]).intersection(set(x[j][1])))\n",
      "                #print(x[i][0],x[j][0],num_compounds)\n",
      "                c.writerow([x[i][0]] + [x[j][0]]  + [num_compounds])\n",
      "                \n",
      "        \n"
     ],
     "language": "python",
     "metadata": {},
     "outputs": [],
     "prompt_number": 66
    },
    {
     "cell_type": "code",
     "collapsed": true,
     "input": [
      "var = {k: list(v) for k,v in recipe_ingredient.groupby(\"Recipe Id\")[\"Aliased Ingredient_ID\"]}\n",
      "match1 = (re.match(r\"([a-z]+)([0-9]+)\", \"fofoofofofof1234\", re.I).groups()[0])\n",
      "sorted_recipe_ingredients = sorted(var.items(), key=lambda v: int(re.match(r\"([a-z]+)([0-9]+)\", v[0], re.I).groups()[1]))\n",
      "\n"
     ],
     "language": "python",
     "metadata": {},
     "outputs": [],
     "prompt_number": 67
    },
    {
     "cell_type": "code",
     "collapsed": true,
     "input": [
      "sorted_recipe_ingredients\n",
      "with open('shared_no_of_ingredients_recipes.csv', 'w+') as f:\n",
      "    c = csv.writer(f)\n",
      "    c.writerow([\"Recipe ID 1\"] + [\"Recipe ID 2\"] + [\"No_of_shared_ingredients\"])   \n",
      "    for i in range(len(sorted_recipe_ingredients)):\n",
      "        for j in range(i+1,len(sorted_recipe_ingredients)):\n",
      "            #print(x[i][0])\n",
      "            if((sorted_recipe_ingredients[i][0])!=sorted_recipe_ingredients[j][0]):\n",
      "                num_compounds = len(set(sorted_recipe_ingredients[i][1]).intersection(set(sorted_recipe_ingredients[j][1])))\n",
      "                #print(x[i][0],x[j][0],num_compounds)\n",
      "                c.writerow([sorted_recipe_ingredients[i][0]] + [sorted_recipe_ingredients[j][0]]  + [num_compounds])\n",
      "\n"
     ],
     "language": "python",
     "metadata": {},
     "outputs": [],
     "prompt_number": 68
    },
    {
     "cell_type": "code",
     "collapsed": true,
     "input": [],
     "language": "python",
     "metadata": {},
     "outputs": [],
     "prompt_number": 68
    },
    {
     "cell_type": "code",
     "collapsed": true,
     "input": [],
     "language": "python",
     "metadata": {},
     "outputs": [],
     "prompt_number": 62
    },
    {
     "cell_type": "code",
     "collapsed": true,
     "input": [],
     "language": "python",
     "metadata": {},
     "outputs": [],
     "prompt_number": 62
    },
    {
     "cell_type": "code",
     "collapsed": true,
     "input": [],
     "language": "python",
     "metadata": {},
     "outputs": [],
     "prompt_number": null
    },
    {
     "cell_type": "code",
     "collapsed": true,
     "input": [],
     "language": "python",
     "metadata": {},
     "outputs": [],
     "prompt_number": null
    }
   ],
   "metadata": {}
  }
 ]
}