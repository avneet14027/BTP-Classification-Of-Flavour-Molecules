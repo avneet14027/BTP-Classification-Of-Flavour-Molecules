{
 "metadata": {
  "name": "",
  "signature": "sha256:7f0a9d056d8ce1a40f03626b8f7899d77e1d4afeacb26123d7db702c14ce51f0"
 },
 "nbformat": 3,
 "nbformat_minor": 0,
 "worksheets": [
  {
   "cells": [
    {
     "cell_type": "code",
     "collapsed": false,
     "input": [
      "import matplotlib.pyplot as plt\n",
      "\n",
      "from collections import OrderedDict\n",
      "from sklearn.datasets import make_classification\n",
      "from sklearn.ensemble import RandomForestClassifier, ExtraTreesClassifier\n",
      "\n",
      "# Author: Kian Ho <hui.kian.ho@gmail.com>\n",
      "#         Gilles Louppe <g.louppe@gmail.com>\n",
      "#         Andreas Mueller <amueller@ais.uni-bonn.de>\n",
      "#\n",
      "# License: BSD 3 Clause\n",
      "\n"
     ],
     "language": "python",
     "metadata": {},
     "outputs": [],
     "prompt_number": 2
    },
    {
     "cell_type": "code",
     "collapsed": false,
     "input": [
      "print(__doc__)\n",
      "\n",
      "RANDOM_STATE = 123\n",
      "\n",
      "# Generate a binary classification dataset.\n",
      "X, y = make_classification(n_samples=500, n_features=25,\n",
      "                           n_clusters_per_class=1, n_informative=15,\n",
      "                           random_state=RANDOM_STATE)\n",
      "\n",
      "# NOTE: Setting the `warm_start` construction parameter to `True` disables\n",
      "# support for parallelized ensembles but is necessary for tracking the OOB\n",
      "# error trajectory during training.\n",
      "ensemble_clfs = [\n",
      "    (\"RandomForestClassifier, max_features='sqrt'\",\n",
      "        RandomForestClassifier(warm_start=True, oob_score=True,\n",
      "                               max_features=\"sqrt\",\n",
      "                               random_state=RANDOM_STATE)),\n",
      "    (\"RandomForestClassifier, max_features='log2'\",\n",
      "        RandomForestClassifier(warm_start=True, max_features='log2',\n",
      "                               oob_score=True,\n",
      "                               random_state=RANDOM_STATE)),\n",
      "    (\"RandomForestClassifier, max_features=None\",\n",
      "        RandomForestClassifier(warm_start=True, max_features=None,\n",
      "                               oob_score=True,\n",
      "                               random_state=RANDOM_STATE))\n",
      "]\n",
      "\n",
      "# Map a classifier name to a list of (<n_estimators>, <error rate>) pairs.\n",
      "error_rate = OrderedDict((label, []) for label, _ in ensemble_clfs)\n",
      "\n",
      "# Range of `n_estimators` values to explore.\n",
      "min_estimators = 15\n",
      "max_estimators = 175\n",
      "\n",
      "for label, clf in ensemble_clfs:\n",
      "    for i in range(min_estimators, max_estimators + 1):\n",
      "        clf.set_params(n_estimators=i)\n",
      "        clf.fit(X, y)\n",
      "\n",
      "        # Record the OOB error for each `n_estimators=i` setting.\n",
      "        oob_error = 1 - clf.oob_score_\n",
      "        error_rate[label].append((i, oob_error))\n",
      "\n",
      "# Generate the \"OOB error rate\" vs. \"n_estimators\" plot.\n",
      "plt.figure()\n",
      "for label, clf_err in error_rate.items():\n",
      "    xs, ys = zip(*clf_err)\n",
      "    plt.plot(xs, ys, label=label)\n",
      "\n",
      "plt.xlim(min_estimators, max_estimators)\n",
      "plt.xlabel(\"n_estimators\")\n",
      "plt.ylabel(\"OOB error rate\")\n",
      "plt.legend(loc=\"upper right\")\n",
      "plt.savefig('tryfigureeee124.png')\n",
      "plt.show()"
     ],
     "language": "python",
     "metadata": {},
     "outputs": [
      {
       "output_type": "stream",
       "stream": "stdout",
       "text": [
        "Automatically created module for IPython interactive environment\n"
       ]
      }
     ],
     "prompt_number": 10
    },
    {
     "cell_type": "code",
     "collapsed": false,
     "input": [],
     "language": "python",
     "metadata": {},
     "outputs": []
    }
   ],
   "metadata": {}
  }
 ]
}