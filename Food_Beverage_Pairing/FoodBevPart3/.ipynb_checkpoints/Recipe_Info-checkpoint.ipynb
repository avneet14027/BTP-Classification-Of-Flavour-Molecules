{
 "cells": [
  {
   "cell_type": "code",
   "execution_count": 1,
   "metadata": {
    "collapsed": true
   },
   "outputs": [],
   "source": [
    "import csv\n",
    "import pandas as pd\n",
    "from collections import Counter\n",
    "from operator import itemgetter"
   ]
  },
  {
   "cell_type": "code",
   "execution_count": 2,
   "metadata": {
    "collapsed": true
   },
   "outputs": [],
   "source": [
    "recipe_details = pd.read_csv('./01_Cuisine_Recipe_Ingredient.csv')"
   ]
  },
  {
   "cell_type": "code",
   "execution_count": 3,
   "metadata": {},
   "outputs": [
    {
     "data": {
      "text/html": [
       "<div>\n",
       "<table border=\"1\" class=\"dataframe\">\n",
       "  <thead>\n",
       "    <tr style=\"text-align: right;\">\n",
       "      <th></th>\n",
       "      <th>Recipe Id</th>\n",
       "      <th>Ingredient Name</th>\n",
       "      <th>Aliased Ingredient Name</th>\n",
       "      <th>Aliased Ingredient_ID</th>\n",
       "    </tr>\n",
       "  </thead>\n",
       "  <tbody>\n",
       "    <tr>\n",
       "      <th>0</th>\n",
       "      <td>R000001</td>\n",
       "      <td>yogurt</td>\n",
       "      <td>buttermilk</td>\n",
       "      <td>1008</td>\n",
       "    </tr>\n",
       "    <tr>\n",
       "      <th>1</th>\n",
       "      <td>R000001</td>\n",
       "      <td>lemon juice</td>\n",
       "      <td>lemon</td>\n",
       "      <td>1132</td>\n",
       "    </tr>\n",
       "    <tr>\n",
       "      <th>2</th>\n",
       "      <td>R000001</td>\n",
       "      <td>fresh ground cumin</td>\n",
       "      <td>cumin</td>\n",
       "      <td>579</td>\n",
       "    </tr>\n",
       "    <tr>\n",
       "      <th>3</th>\n",
       "      <td>R000001</td>\n",
       "      <td>ground cinnamon</td>\n",
       "      <td>cinnamon</td>\n",
       "      <td>439</td>\n",
       "    </tr>\n",
       "    <tr>\n",
       "      <th>4</th>\n",
       "      <td>R000001</td>\n",
       "      <td>cayenne pepper</td>\n",
       "      <td>cayenne</td>\n",
       "      <td>663</td>\n",
       "    </tr>\n",
       "  </tbody>\n",
       "</table>\n",
       "</div>"
      ],
      "text/plain": [
       "  Recipe Id     Ingredient Name Aliased Ingredient Name Aliased Ingredient_ID\n",
       "0   R000001              yogurt              buttermilk                  1008\n",
       "1   R000001         lemon juice                   lemon                  1132\n",
       "2   R000001  fresh ground cumin                   cumin                   579\n",
       "3   R000001     ground cinnamon                cinnamon                   439\n",
       "4   R000001      cayenne pepper                 cayenne                   663"
      ]
     },
     "execution_count": 3,
     "metadata": {},
     "output_type": "execute_result"
    }
   ],
   "source": [
    "recipe_details.head()"
   ]
  },
  {
   "cell_type": "code",
   "execution_count": 4,
   "metadata": {},
   "outputs": [
    {
     "name": "stdout",
     "output_type": "stream",
     "text": [
      "  Recipe ID           Recipe Name  \\\n",
      "0   R000001  Chicken Tikka Masala   \n",
      "1   R000002            Black Peas   \n",
      "2   R000003      Bangers and mash   \n",
      "3   R000004     Bubble and Squeak   \n",
      "4   R000005        Fish and Chips   \n",
      "\n",
      "                                              Source Source_Name  \n",
      "0  http://allrecipes.com/recipe/45736/chicken-tik...  AllRecipes  \n",
      "1  http://allrecipes.com/recipe/142892/slow-cooke...  AllRecipes  \n",
      "2  http://allrecipes.com/recipe/55428/bangers-and...  AllRecipes  \n",
      "3  http://allrecipes.com/recipe/18854/bubble-n-sq...  AllRecipes  \n",
      "4  http://allrecipes.com/recipe/16580/classic-fis...  AllRecipes  \n"
     ]
    }
   ],
   "source": [
    "recipe_ingredient_Id = pd.read_csv(\"Recipe_Details.csv\")\n",
    "print(recipe_ingredient_Id.head())\n",
    "recipe_mapping = {}\n",
    "recipe_mapping = dict(zip(list(recipe_ingredient_Id['Recipe ID']), list(recipe_ingredient_Id['Recipe Name'])))\n",
    "#recipe_mapping"
   ]
  },
  {
   "cell_type": "code",
   "execution_count": 5,
   "metadata": {
    "collapsed": true
   },
   "outputs": [],
   "source": [
    "Recipe_id = []\n",
    "Recipe_id = recipe_details[\"Recipe Id\"]\n",
    "unique_recipe = set(Recipe_id)\n",
    "unique_recipe_count = Counter(Recipe_id)\n",
    "unique_recipe_count = list(dict(unique_recipe_count))"
   ]
  },
  {
   "cell_type": "code",
   "execution_count": 6,
   "metadata": {
    "collapsed": true
   },
   "outputs": [],
   "source": [
    "recipe_info = {}\n",
    "for recipe in unique_recipe:\n",
    "    recipe_rows = recipe_details.loc[recipe_details['Recipe Id'] == recipe]\n",
    "    ing_list = recipe_rows['Aliased Ingredient_ID'].tolist()\n",
    "    recipe_info[recipe] = ing_list\n",
    "#recipe_info\n",
    "    "
   ]
  },
  {
   "cell_type": "code",
   "execution_count": 7,
   "metadata": {
    "collapsed": true
   },
   "outputs": [],
   "source": [
    "recipe_mapped_missing_info = {}\n",
    "for recipe in recipe_info:\n",
    "    my_list = []\n",
    "    missing = recipe_info[recipe].count(\"NIL\")\n",
    "    total = len(recipe_info[recipe])\n",
    "    mapped = total - missing\n",
    "    my_list.append(mapped)\n",
    "    my_list.append(missing)\n",
    "    my_list.append(total)\n",
    "    recipe_mapped_missing_info[recipe] = my_list\n",
    "recipe_complete_info = [(k, v) for k, v in recipe_mapped_missing_info.items()]    \n",
    "recipes_sorted_complete_info = sorted(recipe_complete_info,key=itemgetter(0))\n",
    "#recipes_sorted_complete_info  "
   ]
  },
  {
   "cell_type": "code",
   "execution_count": 8,
   "metadata": {
    "collapsed": true
   },
   "outputs": [],
   "source": [
    "with open('Recipe_Info.csv', 'w+') as f:\n",
    "    c = csv.writer(f)\n",
    "    c.writerow([\"Recipe ID\"] + [\"Recipe Name\"] + [\"Mapped\"] + [\"Missing\"] + [\"Total\"])\n",
    "    for recipe in recipes_sorted_complete_info:\n",
    "            #print(recipe[0],recipe_mapping[recipe[0]],recipe[1][0],recipe[1][1],recipe[1][2])\n",
    "            c.writerow([recipe[0]] + [recipe_mapping[recipe[0]]] + [recipe[1][0]] + [recipe[1][1]] + [recipe[1][2]] )"
   ]
  },
  {
   "cell_type": "code",
   "execution_count": null,
   "metadata": {
    "collapsed": true
   },
   "outputs": [],
   "source": []
  },
  {
   "cell_type": "code",
   "execution_count": null,
   "metadata": {
    "collapsed": true
   },
   "outputs": [],
   "source": []
  },
  {
   "cell_type": "code",
   "execution_count": null,
   "metadata": {
    "collapsed": true
   },
   "outputs": [],
   "source": []
  },
  {
   "cell_type": "code",
   "execution_count": null,
   "metadata": {
    "collapsed": true
   },
   "outputs": [],
   "source": []
  },
  {
   "cell_type": "code",
   "execution_count": null,
   "metadata": {
    "collapsed": true
   },
   "outputs": [],
   "source": []
  },
  {
   "cell_type": "code",
   "execution_count": null,
   "metadata": {
    "collapsed": true
   },
   "outputs": [],
   "source": []
  }
 ],
 "metadata": {
  "kernelspec": {
   "display_name": "Python 3",
   "language": "python",
   "name": "python3"
  },
  "language_info": {
   "codemirror_mode": {
    "name": "ipython",
    "version": 3
   },
   "file_extension": ".py",
   "mimetype": "text/x-python",
   "name": "python",
   "nbconvert_exporter": "python",
   "pygments_lexer": "ipython3",
   "version": "3.5.2"
  }
 },
 "nbformat": 4,
 "nbformat_minor": 2
}
