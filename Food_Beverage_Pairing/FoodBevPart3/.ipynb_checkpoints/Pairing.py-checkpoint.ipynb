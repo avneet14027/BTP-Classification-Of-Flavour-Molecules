{
 "cells": [
  {
   "cell_type": "code",
   "execution_count": 110,
   "metadata": {
    "collapsed": true
   },
   "outputs": [],
   "source": [
    "import csv\n",
    "import pandas as pd\n",
    "from collections import Counter\n",
    "from operator import itemgetter\n",
    "import re"
   ]
  },
  {
   "cell_type": "code",
   "execution_count": 111,
   "metadata": {
    "collapsed": true
   },
   "outputs": [],
   "source": [
    "recipe_ingredient = pd.read_csv('./Cuisine_Recipe_Ingredient.csv')"
   ]
  },
  {
   "cell_type": "code",
   "execution_count": 112,
   "metadata": {},
   "outputs": [
    {
     "data": {
      "text/html": [
       "<div>\n",
       "<table border=\"1\" class=\"dataframe\">\n",
       "  <thead>\n",
       "    <tr style=\"text-align: right;\">\n",
       "      <th></th>\n",
       "      <th>Recipe Id</th>\n",
       "      <th>Aliased Ingredient_ID</th>\n",
       "    </tr>\n",
       "  </thead>\n",
       "  <tbody>\n",
       "    <tr>\n",
       "      <th>0</th>\n",
       "      <td>R000001</td>\n",
       "      <td>1008.0</td>\n",
       "    </tr>\n",
       "    <tr>\n",
       "      <th>1</th>\n",
       "      <td>R000001</td>\n",
       "      <td>1132.0</td>\n",
       "    </tr>\n",
       "    <tr>\n",
       "      <th>2</th>\n",
       "      <td>R000001</td>\n",
       "      <td>579.0</td>\n",
       "    </tr>\n",
       "    <tr>\n",
       "      <th>3</th>\n",
       "      <td>R000001</td>\n",
       "      <td>439.0</td>\n",
       "    </tr>\n",
       "    <tr>\n",
       "      <th>4</th>\n",
       "      <td>R000001</td>\n",
       "      <td>663.0</td>\n",
       "    </tr>\n",
       "  </tbody>\n",
       "</table>\n",
       "</div>"
      ],
      "text/plain": [
       "  Recipe Id  Aliased Ingredient_ID\n",
       "0   R000001                 1008.0\n",
       "1   R000001                 1132.0\n",
       "2   R000001                  579.0\n",
       "3   R000001                  439.0\n",
       "4   R000001                  663.0"
      ]
     },
     "execution_count": 112,
     "metadata": {},
     "output_type": "execute_result"
    }
   ],
   "source": [
    "recipe_ingredient.head()"
   ]
  },
  {
   "cell_type": "code",
   "execution_count": 113,
   "metadata": {
    "collapsed": true
   },
   "outputs": [],
   "source": [
    "ingredient_compound = pd.read_csv('./Compound_Details.csv') "
   ]
  },
  {
   "cell_type": "code",
   "execution_count": 114,
   "metadata": {},
   "outputs": [
    {
     "data": {
      "text/html": [
       "<div>\n",
       "<table border=\"1\" class=\"dataframe\">\n",
       "  <thead>\n",
       "    <tr style=\"text-align: right;\">\n",
       "      <th></th>\n",
       "      <th>Aliased Ingredient ID</th>\n",
       "      <th>Compound ID</th>\n",
       "    </tr>\n",
       "  </thead>\n",
       "  <tbody>\n",
       "    <tr>\n",
       "      <th>0</th>\n",
       "      <td>7</td>\n",
       "      <td>37</td>\n",
       "    </tr>\n",
       "    <tr>\n",
       "      <th>1</th>\n",
       "      <td>7</td>\n",
       "      <td>79</td>\n",
       "    </tr>\n",
       "    <tr>\n",
       "      <th>2</th>\n",
       "      <td>7</td>\n",
       "      <td>132</td>\n",
       "    </tr>\n",
       "    <tr>\n",
       "      <th>3</th>\n",
       "      <td>7</td>\n",
       "      <td>157</td>\n",
       "    </tr>\n",
       "    <tr>\n",
       "      <th>4</th>\n",
       "      <td>7</td>\n",
       "      <td>165</td>\n",
       "    </tr>\n",
       "  </tbody>\n",
       "</table>\n",
       "</div>"
      ],
      "text/plain": [
       "   Aliased Ingredient ID  Compound ID\n",
       "0                      7           37\n",
       "1                      7           79\n",
       "2                      7          132\n",
       "3                      7          157\n",
       "4                      7          165"
      ]
     },
     "execution_count": 114,
     "metadata": {},
     "output_type": "execute_result"
    }
   ],
   "source": [
    "ingredient_compound.head()"
   ]
  },
  {
   "cell_type": "code",
   "execution_count": 115,
   "metadata": {
    "collapsed": true
   },
   "outputs": [],
   "source": [
    "Recipe_id = []\n",
    "Recipe_id = recipe_ingredient[\"Recipe Id\"]"
   ]
  },
  {
   "cell_type": "code",
   "execution_count": 116,
   "metadata": {
    "collapsed": true
   },
   "outputs": [],
   "source": [
    "unique_recipe = set(Recipe_id)\n",
    "unique_recipe_count = Counter(Recipe_id)"
   ]
  },
  {
   "cell_type": "code",
   "execution_count": 117,
   "metadata": {
    "collapsed": true
   },
   "outputs": [],
   "source": [
    "unique_recipe_count = dict(unique_recipe_count)"
   ]
  },
  {
   "cell_type": "code",
   "execution_count": 118,
   "metadata": {},
   "outputs": [
    {
     "name": "stdout",
     "output_type": "stream",
     "text": [
      "99\n"
     ]
    }
   ],
   "source": [
    "unique_recipe = list(unique_recipe)\n",
    "print(len(unique_recipe))"
   ]
  },
  {
   "cell_type": "code",
   "execution_count": 119,
   "metadata": {
    "collapsed": true
   },
   "outputs": [],
   "source": [
    "recipe_details = pd.read_csv(\"Recipe_Details.csv\")\n",
    "#recipe_details"
   ]
  },
  {
   "cell_type": "code",
   "execution_count": 120,
   "metadata": {
    "collapsed": true
   },
   "outputs": [],
   "source": [
    "\n",
    "recipe_mapping = {}\n",
    "recipe_mapping = dict(zip(list(recipe_details['Recipe ID']), list(recipe_details['Recipe Name'])))\n",
    "#recipe_mapping"
   ]
  },
  {
   "cell_type": "markdown",
   "metadata": {},
   "source": [
    "<h3>Returns a list of compounds present in particular Ingredient using its Aliased Ingredient ID </h3>"
   ]
  },
  {
   "cell_type": "code",
   "execution_count": 121,
   "metadata": {},
   "outputs": [],
   "source": [
    "def get_compound(id):\n",
    "    #print(id)\n",
    "    if(pd.isnull(id)):\n",
    "        #print(\"hello\")\n",
    "        return [0]\n",
    "    else:\n",
    "        compound_rows = ingredient_compound.loc[ingredient_compound['Aliased Ingredient ID'] == id]\n",
    "        #print(compound_rows)\n",
    "        my_list = compound_rows['Compound ID'].tolist()\n",
    "        return my_list\n",
    "    "
   ]
  },
  {
   "cell_type": "markdown",
   "metadata": {},
   "source": [
    "<h3>For Each Recipe, this function returns a key value pair: <br>\n",
    "                key : Recipe Name<br>\n",
    "                value: Compunds Present<h3> "
   ]
  },
  {
   "cell_type": "code",
   "execution_count": 122,
   "metadata": {},
   "outputs": [
    {
     "name": "stdout",
     "output_type": "stream",
     "text": [
      "99\n"
     ]
    }
   ],
   "source": [
    "recipe_compound = {}\n",
    "for recipe in unique_recipe:\n",
    "    recipe_rows = recipe_ingredient.loc[recipe_ingredient['Recipe Id'] == recipe]\n",
    "    all_compounds = []\n",
    "    for index,row in recipe_rows.iterrows():\n",
    "        ing_comp = get_compound(row['Aliased Ingredient_ID'])\n",
    "        #print ing_comp\n",
    "        all_compounds.extend(ing_comp)\n",
    "    all_compounds_recipe = list(set(all_compounds))\n",
    "    recipe_compound[recipe] = all_compounds_recipe\n",
    "print(len(recipe_compound))"
   ]
  },
  {
   "cell_type": "code",
   "execution_count": 123,
   "metadata": {
    "collapsed": true
   },
   "outputs": [],
   "source": [
    "#sorted(, lambda x: int(x.split()[-1]))\n",
    "match = (re.match(r\"([a-z]+)([0-9]+)\", \"fofoofofofof1234\", re.I).groups()[0])\n",
    "match\n",
    "#if match:\n",
    " #   items = match.groups()\n",
    "#items\n",
    "x = sorted(recipe_compound.items(), key=lambda v: int(re.match(r\"([a-z]+)([0-9]+)\", v[0], re.I).groups()[1]))\n",
    "#x #sorted(recipe_compound.keys())\n"
   ]
  },
  {
   "cell_type": "markdown",
   "metadata": {},
   "source": [
    "<h4>Compute Common Compunds between Tea and other recipes<h4>"
   ]
  },
  {
   "cell_type": "code",
   "execution_count": 138,
   "metadata": {},
   "outputs": [
    {
     "data": {
      "text/html": [
       "<div>\n",
       "<table border=\"1\" class=\"dataframe\">\n",
       "  <thead>\n",
       "    <tr style=\"text-align: right;\">\n",
       "      <th></th>\n",
       "      <th>Compound_ID</th>\n",
       "    </tr>\n",
       "  </thead>\n",
       "  <tbody>\n",
       "    <tr>\n",
       "      <th>0</th>\n",
       "      <td>1426</td>\n",
       "    </tr>\n",
       "    <tr>\n",
       "      <th>1</th>\n",
       "      <td>1355</td>\n",
       "    </tr>\n",
       "    <tr>\n",
       "      <th>2</th>\n",
       "      <td>1015</td>\n",
       "    </tr>\n",
       "    <tr>\n",
       "      <th>3</th>\n",
       "      <td>1427</td>\n",
       "    </tr>\n",
       "    <tr>\n",
       "      <th>4</th>\n",
       "      <td>1428</td>\n",
       "    </tr>\n",
       "  </tbody>\n",
       "</table>\n",
       "</div>"
      ],
      "text/plain": [
       "   Compound_ID\n",
       "0         1426\n",
       "1         1355\n",
       "2         1015\n",
       "3         1427\n",
       "4         1428"
      ]
     },
     "execution_count": 138,
     "metadata": {},
     "output_type": "execute_result"
    }
   ],
   "source": [
    "tea_molecules = pd.read_csv('./Tea_Molecules2.csv')\n",
    "tea_molecules.head()"
   ]
  },
  {
   "cell_type": "code",
   "execution_count": 139,
   "metadata": {
    "collapsed": true
   },
   "outputs": [],
   "source": [
    "\n",
    "tea_molecules_list = tea_molecules['Compound_ID'].tolist()"
   ]
  },
  {
   "cell_type": "code",
   "execution_count": 140,
   "metadata": {},
   "outputs": [
    {
     "name": "stdout",
     "output_type": "stream",
     "text": [
      "<class 'list'>\n",
      "<class 'dict'>\n"
     ]
    }
   ],
   "source": [
    "ranked_recipe = {}\n",
    "#print(len(recipe_compound))\n",
    "for a,b in x:\n",
    "    #print(a,b)\n",
    "        common_molecules = list(set(b).intersection(set(tea_molecules_list)))\n",
    "        ranked_recipe[a] = common_molecules\n",
    "        #print(key,common_molecules)\n",
    "#print(ranked_recipe)\n",
    "import operator\n",
    "match = (re.match(r\"([a-z]+)([0-9]+)\", \"fofoofofofof1234\", re.I).groups()[0])\n",
    "sorted_recipes = sorted(ranked_recipe.items(), key=lambda v: int(re.match(r\"([a-z]+)([0-9]+)\", v[0], re.I).groups()[1]))\n",
    "#sorted_recipes = (sorted(ranked_recipe.items(), key=operator.itemgetter(1),reverse=True))\n",
    "print(type(sorted_recipes))\n",
    "print(type(ranked_recipe))"
   ]
  },
  {
   "cell_type": "code",
   "execution_count": 141,
   "metadata": {
    "collapsed": true
   },
   "outputs": [],
   "source": [
    "#final_recipes = sorted(sorted_recipes,key=itemgetter(0))\n",
    "#final_recipes\n",
    "#final_recipes"
   ]
  },
  {
   "cell_type": "code",
   "execution_count": 142,
   "metadata": {},
   "outputs": [],
   "source": [
    "with open('shared_molecules_Tea2.csv', 'w+') as f:\n",
    "    c = csv.writer(f)\n",
    "    c.writerow([\"Recipe ID\"] + [\"Recipe Name\"] + [\"shared_molecule_Compound_ID\"])\n",
    "    for recipe in sorted_recipes:\n",
    "        for i in recipe[1]:\n",
    "            #print(recipe[0],recipe_mapping[recipe[0]],i)\n",
    "            c.writerow([recipe[0]] + [recipe_mapping[recipe[0]]]  + [i])"
   ]
  },
  {
   "cell_type": "code",
   "execution_count": 143,
   "metadata": {},
   "outputs": [],
   "source": [
    "no_of_molecules = {}\n",
    "for key,value in sorted_recipes:\n",
    "    no_of_molecules[key]=len(value)\n",
    "#print(no_of_molecules)\n",
    "final_recipes = sorted(no_of_molecules.items(), key=operator.itemgetter(1),reverse=True)\n",
    "#print(final_recipes)\n",
    "\n",
    "with open('shared_no_of_molecules_Tea2.csv', 'w+') as f:\n",
    "    c = csv.writer(f)\n",
    "    c.writerow([\"Recipe ID\"] + [\"Recipe Name\"] + [\"No_of_shared_molecules\"])\n",
    "    for recipe,value in final_recipes:\n",
    "        #for i in recipe[1]:\n",
    "        c.writerow([recipe] + [recipe_mapping[recipe]]  + [value])"
   ]
  },
  {
   "cell_type": "code",
   "execution_count": 144,
   "metadata": {
    "collapsed": true
   },
   "outputs": [],
   "source": [
    "sorted_recipes_id = sorted_recipes\n",
    "with open('sorted_id_shared_no_Tea2.csv', 'w+') as f:\n",
    "    c = csv.writer(f)\n",
    "    c.writerow([\"Recipe ID\"] + [\"Recipe Name\"] + [\"No_of_shared_molecules\"])\n",
    "    for recipe,value in sorted_recipes_id:\n",
    "        #for i in recipe[1]:\n",
    "        c.writerow([recipe] + [recipe_mapping[recipe]]  + [len(value)])\n",
    "#print(sorted_recipes_id)\n"
   ]
  },
  {
   "cell_type": "code",
   "execution_count": 145,
   "metadata": {
    "collapsed": true
   },
   "outputs": [],
   "source": [
    "#x is sorted recipe compund dictionary\n",
    "\n",
    "with open('shared_no_of_compounds_recipes.csv', 'w+') as f:\n",
    "    c = csv.writer(f)\n",
    "    c.writerow([\"Recipe ID 1\"] + [\"Recipe ID 2\"] + [\"No_of_shared_compounds\"])   \n",
    "    for i in range(len(x)):\n",
    "        for j in range(i+1,len(x)):\n",
    "            #print(x[i][0])\n",
    "            if((x[i][0])!=x[j][0]):\n",
    "                num_compounds = len(set(x[i][1]).intersection(set(x[j][1])))\n",
    "                #print(x[i][0],x[j][0],num_compounds)\n",
    "                c.writerow([x[i][0]] + [x[j][0]]  + [num_compounds])\n",
    "                \n",
    "        \n"
   ]
  },
  {
   "cell_type": "code",
   "execution_count": 146,
   "metadata": {
    "collapsed": true
   },
   "outputs": [],
   "source": [
    "var = {k: list(v) for k,v in recipe_ingredient.groupby(\"Recipe Id\")[\"Aliased Ingredient_ID\"]}\n",
    "match1 = (re.match(r\"([a-z]+)([0-9]+)\", \"fofoofofofof1234\", re.I).groups()[0])\n",
    "sorted_recipe_ingredients = sorted(var.items(), key=lambda v: int(re.match(r\"([a-z]+)([0-9]+)\", v[0], re.I).groups()[1]))\n",
    "\n"
   ]
  },
  {
   "cell_type": "code",
   "execution_count": 147,
   "metadata": {
    "collapsed": true
   },
   "outputs": [],
   "source": [
    "sorted_recipe_ingredients\n",
    "with open('shared_no_of_ingredients_recipes.csv', 'w+') as f:\n",
    "    c = csv.writer(f)\n",
    "    c.writerow([\"Recipe ID 1\"] + [\"Recipe ID 2\"] + [\"No_of_shared_ingredients\"])   \n",
    "    for i in range(len(sorted_recipe_ingredients)):\n",
    "        for j in range(i+1,len(sorted_recipe_ingredients)):\n",
    "            #print(x[i][0])\n",
    "            if((sorted_recipe_ingredients[i][0])!=sorted_recipe_ingredients[j][0]):\n",
    "                num_compounds = len(set(sorted_recipe_ingredients[i][1]).intersection(set(sorted_recipe_ingredients[j][1])))\n",
    "                #print(x[i][0],x[j][0],num_compounds)\n",
    "                c.writerow([sorted_recipe_ingredients[i][0]] + [sorted_recipe_ingredients[j][0]]  + [num_compounds])\n",
    "\n"
   ]
  },
  {
   "cell_type": "code",
   "execution_count": null,
   "metadata": {
    "collapsed": true
   },
   "outputs": [],
   "source": []
  },
  {
   "cell_type": "code",
   "execution_count": null,
   "metadata": {
    "collapsed": true
   },
   "outputs": [],
   "source": []
  },
  {
   "cell_type": "code",
   "execution_count": null,
   "metadata": {
    "collapsed": true
   },
   "outputs": [],
   "source": []
  },
  {
   "cell_type": "code",
   "execution_count": null,
   "metadata": {
    "collapsed": true
   },
   "outputs": [],
   "source": []
  },
  {
   "cell_type": "code",
   "execution_count": null,
   "metadata": {
    "collapsed": true
   },
   "outputs": [],
   "source": []
  }
 ],
 "metadata": {
  "kernelspec": {
   "display_name": "Python 3",
   "language": "python",
   "name": "python3"
  },
  "language_info": {
   "codemirror_mode": {
    "name": "ipython",
    "version": 3
   },
   "file_extension": ".py",
   "mimetype": "text/x-python",
   "name": "python",
   "nbconvert_exporter": "python",
   "pygments_lexer": "ipython3",
   "version": "3.5.2"
  }
 },
 "nbformat": 4,
 "nbformat_minor": 1
}
