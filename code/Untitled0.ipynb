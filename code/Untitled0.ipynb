{
 "metadata": {
  "name": "",
  "signature": "sha256:1f0974d5e23bda804e7ca02886e2623f59457e65ae53e166e6c9f0dfed9c90f6"
 },
 "nbformat": 3,
 "nbformat_minor": 0,
 "worksheets": [
  {
   "cells": [
    {
     "cell_type": "code",
     "collapsed": false,
     "input": [
      "import pandas as pd\n",
      "import numpy as np\n",
      "import plotly.plotly as py\n",
      "from plotly.graph_objs import *\n",
      "import plotly.tools as tls\n",
      "import plotly \n",
      "plotly.tools.set_credentials_file(username='avneet14027', api_key='qbQtJjDoqdskKesA3JFX')\n"
     ],
     "language": "python",
     "metadata": {},
     "outputs": [],
     "prompt_number": 2
    },
    {
     "cell_type": "code",
     "collapsed": false,
     "input": [
      "df = pd.read_csv('Data.tsv',sep='\\t')\n",
      "df.shape"
     ],
     "language": "python",
     "metadata": {},
     "outputs": [
      {
       "metadata": {},
       "output_type": "pyout",
       "prompt_number": 36,
       "text": [
        "(3087, 19)"
       ]
      }
     ],
     "prompt_number": 36
    },
    {
     "cell_type": "code",
     "collapsed": false,
     "input": [
      "df.head()\n",
      "for col in ['Unnamed: 0','Estate_AtomTypes','Estate_AtomValues','Estate_Counts','Estate_Keys','Estate_NumUnknown']:\n",
      "    df.drop( col, axis = 1, inplace = True)"
     ],
     "language": "python",
     "metadata": {},
     "outputs": [],
     "prompt_number": 37
    },
    {
     "cell_type": "code",
     "collapsed": false,
     "input": [
      "df.head()\n",
      "\n",
      "new_df = df.loc[(df['Molecular_Weight'] <=700) & (df['ALogP'].map(lambda s: -3<=s<=7))]\n",
      "new_df.shape\n",
      "df = new_df"
     ],
     "language": "python",
     "metadata": {},
     "outputs": [],
     "prompt_number": 48
    },
    {
     "cell_type": "code",
     "collapsed": false,
     "input": [
      "labels = df.ix[:,11].values\n",
      "x = list(set(labels))\n",
      "x"
     ],
     "language": "python",
     "metadata": {},
     "outputs": [
      {
       "metadata": {},
       "output_type": "pyout",
       "prompt_number": 49,
       "text": [
        "['Sweet', 'Non-Bitter', 'Bitter', 'Tasteless']"
       ]
      }
     ],
     "prompt_number": 49
    },
    {
     "cell_type": "code",
     "collapsed": false,
     "input": [
      "data = df.ix[:,[1,2,3,4,5,6,7,8,9,10,12]]\n",
      "data =data.apply(pd.to_numeric, errors='coerce')"
     ],
     "language": "python",
     "metadata": {},
     "outputs": [],
     "prompt_number": 50
    },
    {
     "cell_type": "code",
     "collapsed": false,
     "input": [
      "from sklearn.preprocessing import StandardScaler\n",
      "X_std = StandardScaler().fit_transform(data)"
     ],
     "language": "python",
     "metadata": {},
     "outputs": [],
     "prompt_number": 51
    },
    {
     "cell_type": "code",
     "collapsed": false,
     "input": [
      "mean_vec = np.mean(X_std, axis=0)\n",
      "cov_mat = (X_std - mean_vec).T.dot((X_std - mean_vec)) / (X_std.shape[0]-1)\n",
      "\n",
      "cov_mat = np.cov(X_std.T)\n",
      "eig_vals, eig_vecs = np.linalg.eig(cov_mat)\n",
      "\n",
      "#cor_mat1 = np.corrcoef(X_std.T)\n",
      "#eig_vals, eig_vecs = np.linalg.eig(cor_mat1)\n",
      "\n",
      "\n",
      "#cor_mat2 = np.corrcoef(data.T)\n",
      "#eig_vals, eig_vecs = np.linalg.eig(cor_mat2)\n"
     ],
     "language": "python",
     "metadata": {},
     "outputs": [],
     "prompt_number": 52
    },
    {
     "cell_type": "code",
     "collapsed": false,
     "input": [
      "eig_pairs = [((eig_vals[i]), eig_vecs[:,i]) for i in range(len(eig_vals))]\n",
      "\n",
      "eig_pairs.sort()\n",
      "eig_pairs.reverse()\n",
      "\n",
      "for i in eig_pairs:\n",
      "    print(i[0])"
     ],
     "language": "python",
     "metadata": {},
     "outputs": [
      {
       "output_type": "stream",
       "stream": "stdout",
       "text": [
        "5.799770459\n",
        "1.76518092978\n",
        "1.3976984298\n",
        "0.994749400457\n",
        "0.441666166157\n",
        "0.310958168851\n",
        "0.133735068877\n",
        "0.0791016314784\n",
        "0.0550159724398\n",
        "0.0178521536213\n",
        "0.0080791653985\n"
       ]
      }
     ],
     "prompt_number": 53
    },
    {
     "cell_type": "code",
     "collapsed": false,
     "input": [
      "import seaborn as sns\n",
      "import matplotlib.pyplot as plt\n",
      "\n",
      "%matplotlib inline"
     ],
     "language": "python",
     "metadata": {},
     "outputs": [],
     "prompt_number": 56
    },
    {
     "cell_type": "code",
     "collapsed": false,
     "input": [
      "tot = sum(eig_vals)\n",
      "var_exp = [(i / tot)*100 for i in sorted(eig_vals, reverse=True)]\n",
      "cum_var_exp = np.cumsum(var_exp)\n",
      "\n",
      "trace1 = Bar(\n",
      "        x=['PC %s' %i for i in range(1,12)],\n",
      "        y=var_exp,\n",
      "        showlegend=False)\n",
      "\n",
      "trace2 = Scatter(\n",
      "        x=['PC %s' %i for i in range(1,12)], \n",
      "        y=cum_var_exp,\n",
      "        name='cumulative explained variance')\n",
      "\n",
      "data = Data([trace1, trace2])\n",
      "\n",
      "layout=Layout(\n",
      "        yaxis=YAxis(title='Explained variance in percent'),\n",
      "        title='Explained variance by different principal components')\n",
      "\n",
      "fig = Figure(data=data, layout=layout)\n",
      "py.iplot(fig)\n",
      "#plot.ly"
     ],
     "language": "python",
     "metadata": {},
     "outputs": []
    },
    {
     "cell_type": "code",
     "collapsed": false,
     "input": [
      "plt.plot(var_exp)"
     ],
     "language": "python",
     "metadata": {},
     "outputs": [
      {
       "metadata": {},
       "output_type": "pyout",
       "prompt_number": 58,
       "text": [
        "[<matplotlib.lines.Line2D at 0xa88c4f4c>]"
       ]
      },
      {
       "metadata": {},
       "output_type": "display_data",
       "png": "[encoded data removed]",
       "text": [
        "<matplotlib.figure.Figure at 0xa89036cc>"
       ]
      }
     ],
     "prompt_number": 58
    },
    {
     "cell_type": "code",
     "collapsed": false,
     "input": [],
     "language": "python",
     "metadata": {},
     "outputs": [],
     "prompt_number": 58
    },
    {
     "cell_type": "code",
     "collapsed": false,
     "input": [
      "matrix_w = np.hstack((eig_pairs[0][1].reshape(11,1), \n",
      "                      eig_pairs[1][1].reshape(11,1)))\n"
     ],
     "language": "python",
     "metadata": {},
     "outputs": [],
     "prompt_number": 59
    },
    {
     "cell_type": "code",
     "collapsed": false,
     "input": [
      "Y = X_std.dot(matrix_w)"
     ],
     "language": "python",
     "metadata": {},
     "outputs": [],
     "prompt_number": 60
    },
    {
     "cell_type": "code",
     "collapsed": false,
     "input": [
      "traces = []\n",
      "\n",
      "for name in ('Tasteless','Sweet',  'Bitter','Non-Bitter'):\n",
      "\n",
      "    trace = Scatter(\n",
      "        x=Y[labels==name,0],\n",
      "        y=Y[labels==name,1],\n",
      "        mode='markers',\n",
      "        name=name,\n",
      "        marker=Marker(\n",
      "            size=6,\n",
      "            line=Line(\n",
      "                color='rgba(217, 217, 217, 0.14)',\n",
      "                width=0.5),\n",
      "            opacity=0.8))\n",
      "    traces.append(trace)\n",
      "\n",
      "\n",
      "data = Data(traces)\n",
      "layout = Layout(showlegend=True,\n",
      "                scene=Scene(xaxis=XAxis(title='PC1'),\n",
      "                yaxis=YAxis(title='PC2'),))\n",
      "\n",
      "fig = Figure(data=data, layout=layout)\n",
      "py.iplot(fig)\n",
      "\n"
     ],
     "language": "python",
     "metadata": {},
     "outputs": []
    },
    {
     "cell_type": "code",
     "collapsed": false,
     "input": [
      "from collections import Counter\n"
     ],
     "language": "python",
     "metadata": {},
     "outputs": [
      {
       "metadata": {},
       "output_type": "pyout",
       "prompt_number": 72,
       "text": [
        "Counter({'Non-Bitter': 1583, 'Bitter': 756, 'Sweet': 423, 'Tasteless': 128})"
       ]
      }
     ],
     "prompt_number": 72
    },
    {
     "cell_type": "code",
     "collapsed": false,
     "input": [
      "from sklearn.decomposition import PCA as sklearnPCA\n",
      "sklearn_pca = sklearnPCA(n_components=2)\n",
      "Y_sklearn = sklearn_pca.fit_transform(X_std)"
     ],
     "language": "python",
     "metadata": {},
     "outputs": [],
     "prompt_number": 122
    },
    {
     "cell_type": "code",
     "collapsed": false,
     "input": [
      "traces = []\n",
      "\n",
      "for name in ('Tasteless','Sweet',  'Bitter','Non-Bitter'):\n",
      "\n",
      "    trace = Scatter(\n",
      "        x=Y_sklearn[labels==name,0],\n",
      "        y=Y_sklearn[labels==name,1],\n",
      "        mode='markers',\n",
      "        name=name,\n",
      "        marker=Marker(\n",
      "            size=6,\n",
      "            line=Line(\n",
      "                color='rgba(217, 217, 217, 0.14)',\n",
      "                width=0.5),\n",
      "            opacity=0.8))\n",
      "    traces.append(trace)\n"
     ],
     "language": "python",
     "metadata": {},
     "outputs": [],
     "prompt_number": 125
    },
    {
     "cell_type": "code",
     "collapsed": false,
     "input": [
      "data1 = Data(traces)\n",
      "layout = Layout(xaxis=XAxis(title='PC1', showline=False),\n",
      "                yaxis=YAxis(title='PC2', showline=False))\n",
      "fig = Figure(data=data1, layout=layout)\n",
      "py.iplot(fig)\n"
     ],
     "language": "python",
     "metadata": {},
     "outputs": [
      {
       "html": [
        "<iframe id=\"igraph\" scrolling=\"no\" style=\"border:none;\" seamless=\"seamless\" src=\"https://plot.ly/~avneet14027/22.embed\" height=\"525px\" width=\"100%\"></iframe>"
       ],
       "metadata": {},
       "output_type": "pyout",
       "prompt_number": 126,
       "text": [
        "<plotly.tools.PlotlyDisplay at 0xa835ce6c>"
       ]
      }
     ],
     "prompt_number": 126
    },
    {
     "cell_type": "code",
     "collapsed": false,
     "input": [],
     "language": "python",
     "metadata": {},
     "outputs": []
    }
   ],
   "metadata": {}
  }
 ]
}