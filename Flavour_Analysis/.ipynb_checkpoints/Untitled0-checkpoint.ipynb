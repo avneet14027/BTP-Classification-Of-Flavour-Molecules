{
 "metadata": {
  "name": "",
  "signature": "sha256:4c1b690013c3983a64c57783e61aea624011d877448c7edf62dd686068ef7a71"
 },
 "nbformat": 3,
 "nbformat_minor": 0,
 "worksheets": [
  {
   "cells": [
    {
     "cell_type": "code",
     "collapsed": false,
     "input": [
      "import csv\n",
      "import pandas as pd\n",
      "import numpy as np\n",
      "from sklearn.feature_extraction.text import CountVectorizer\n",
      "import numpy\n",
      "import scipy\n",
      "import matplotlib\n",
      "matplotlib.use('TkAgg')\n",
      "#import pylab\n",
      "import scipy.cluster.hierarchy as sch\n",
      "numpy.set_printoptions(threshold=numpy.nan)"
     ],
     "language": "python",
     "metadata": {},
     "outputs": [],
     "prompt_number": 1
    },
    {
     "cell_type": "code",
     "collapsed": false,
     "input": [
      "fema_terms_molecules = pd.read_csv(\"./fema_terms_compounds2.csv\")\n",
      "fema_terms_molecules = fema_terms_molecules.replace('Not Available', np.nan)\n",
      "print(len(fema_terms_molecules))\n",
      "na_terms = fema_terms_molecules.isnull().sum()\n",
      "print(na_terms)\n",
      "fema_terms_molecules = fema_terms_molecules.replace('Not Available', np.nan).dropna()\n",
      "\n",
      "#count NA terms\n",
      "fema_terms_molecules.head()"
     ],
     "language": "python",
     "metadata": {},
     "outputs": [
      {
       "output_type": "stream",
       "stream": "stdout",
       "text": [
        "2229\n",
        "pubchem_id               0\n",
        "fema_flavor_profile    600\n",
        "dtype: int64"
       ]
      },
      {
       "output_type": "stream",
       "stream": "stdout",
       "text": [
        "\n"
       ]
      },
      {
       "html": [
        "<div style=\"max-width:1500px;overflow:auto;\">\n",
        "<style>\n",
        "    .dataframe thead tr:only-child th {\n",
        "        text-align: right;\n",
        "    }\n",
        "\n",
        "    .dataframe thead th {\n",
        "        text-align: left;\n",
        "    }\n",
        "\n",
        "    .dataframe tbody tr th {\n",
        "        vertical-align: top;\n",
        "    }\n",
        "</style>\n",
        "<table border=\"1\" class=\"dataframe\">\n",
        "  <thead>\n",
        "    <tr style=\"text-align: right;\">\n",
        "      <th></th>\n",
        "      <th>pubchem_id</th>\n",
        "      <th>fema_flavor_profile</th>\n",
        "    </tr>\n",
        "  </thead>\n",
        "  <tbody>\n",
        "    <tr>\n",
        "      <th>1</th>\n",
        "      <td>47</td>\n",
        "      <td>Fruit</td>\n",
        "    </tr>\n",
        "    <tr>\n",
        "      <th>4</th>\n",
        "      <td>58</td>\n",
        "      <td>Savory</td>\n",
        "    </tr>\n",
        "    <tr>\n",
        "      <th>5</th>\n",
        "      <td>70</td>\n",
        "      <td>Fruit</td>\n",
        "    </tr>\n",
        "    <tr>\n",
        "      <th>7</th>\n",
        "      <td>119</td>\n",
        "      <td>Savory</td>\n",
        "    </tr>\n",
        "    <tr>\n",
        "      <th>8</th>\n",
        "      <td>125</td>\n",
        "      <td>Nuts</td>\n",
        "    </tr>\n",
        "  </tbody>\n",
        "</table>\n",
        "</div>"
       ],
       "metadata": {},
       "output_type": "pyout",
       "prompt_number": 2,
       "text": [
        "   pubchem_id fema_flavor_profile\n",
        "1          47               Fruit\n",
        "4          58              Savory\n",
        "5          70               Fruit\n",
        "7         119              Savory\n",
        "8         125                Nuts"
       ]
      }
     ],
     "prompt_number": 2
    },
    {
     "cell_type": "code",
     "collapsed": false,
     "input": [
      "fema_dict=dict(zip(list(fema_terms_molecules['pubchem_id']), list(fema_terms_molecules['fema_flavor_profile'])))"
     ],
     "language": "python",
     "metadata": {},
     "outputs": [],
     "prompt_number": 3
    },
    {
     "cell_type": "code",
     "collapsed": false,
     "input": [
      "fema_terms = []\n",
      "fema_length = []\n",
      "fema_cocc = []\n",
      "new_fema_cocc = []\n",
      "fft_list = []\n",
      "\n",
      "for key in fema_dict:\n",
      "    temp_list = []\n",
      "    #print key\n",
      "    temp_list = []\n",
      "    x = fema_dict[key]\n",
      "    #print x\n",
      "    y = x.replace(\", \",\",\")\n",
      "    #print y\n",
      "    y_list = y.replace(\"@\",\",\").split(',')\n",
      "    #print y_list\n",
      "    for term in y_list:\n",
      "        if(len(term.split(\" \"))<=2):\n",
      "            fema_terms.append(term)\n",
      "            temp_list.append(term)\n",
      "            \n",
      "    fft_list.append(','.join(temp_list))\n",
      "    \n",
      "    fema_length.append(len(y_list))\n",
      "    fema_cocc.append((\" \").join(x.split(', ')))\n",
      "    new_fema_cocc.append(temp_list)\n",
      "    \n",
      "fema_set = set(fema_terms)\n",
      "print(len(fema_set))\n",
      "fema_term_count = []\n",
      "with open('plot.csv', 'w+') as f:\n",
      "    c = csv.writer(f)\n",
      "    for word in fema_set:\n",
      "        fema_term_count.append(fema_terms.count(word))\n",
      "        x = fema_terms.count(word)\n",
      "        c.writerow([word] + [x])\n",
      "num_molecules = []\n",
      "fema_count_set = set(fema_length)\n",
      "for count in fema_count_set:\n",
      "    num_molecules.append(fema_length.count(count)) \n",
      "\n",
      "print(len(fft_list))\n",
      "#for i in fema_set:\n",
      "#    print i\n",
      "    \n",
      "#print num_molecules\n",
      "#print fema_count_set\n",
      "#fema_set\n",
      "#fema_count\n",
      "#print((new_fema_cocc))\n",
      "full_list = []\n",
      "for i in new_fema_cocc:\n",
      "    full_list.extend(i)\n",
      "#print(len(full_list))"
     ],
     "language": "python",
     "metadata": {},
     "outputs": [
      {
       "output_type": "stream",
       "stream": "stdout",
       "text": [
        "248\n",
        "1629"
       ]
      },
      {
       "output_type": "stream",
       "stream": "stdout",
       "text": [
        "\n"
       ]
      }
     ],
     "prompt_number": 4
    },
    {
     "cell_type": "code",
     "collapsed": false,
     "input": [
      "import numpy\n",
      "import itertools\n",
      "from collections import Counter\n",
      "ranked_list = []\n",
      "\n",
      "varnames = tuple(sorted(set(itertools.chain(*new_fema_cocc))))\n",
      "expanded = [tuple(itertools.combinations(d, 2)) for d in new_fema_cocc]\n",
      "expanded = itertools.chain(*expanded)\n",
      "\n",
      "expanded = [tuple(sorted(d)) for d in expanded]\n",
      "\n",
      "c = Counter(expanded)\n",
      "table = numpy.zeros((len(varnames),len(varnames)), dtype=int)\n",
      "normalised_ranked_list = []\n",
      "max_normalise = []\n",
      "min_normalise = []\n",
      "sum_normalise = []\n",
      "jaccard_normalise = []\n",
      "\n",
      "for i, v1 in enumerate(varnames):\n",
      "    for j, v2 in enumerate(varnames[i:]):        \n",
      "        j = j + i \n",
      "        if(c[v1,v2]!=0):\n",
      "            number = float(c[v1,v2])/float(max(full_list.count(varnames[i]),full_list.count(varnames[j])))\n",
      "            min_num = float(c[v1,v2])/float(min(full_list.count(varnames[i]),full_list.count(varnames[j])))\n",
      "            sum_num = float(c[v1,v2])/float((full_list.count(varnames[i]) + full_list.count(varnames[j])))\n",
      "            jac_num = float(c[v1,v2])/float((full_list.count(varnames[i])+full_list.count(varnames[j])) - float(c[v1,v2]))\n",
      "            table[i, j] = number\n",
      "            table[j, i] = number\n",
      "            normalised_ranked_list.append([[i,j],number,[varnames[i],varnames[j]]])\n",
      "            ranked_list.append([[i,j],float(c[v1,v2]),[varnames[i],varnames[j]]])\n",
      "            max_normalise.append(number)\n",
      "            min_normalise.append(min_num)\n",
      "            sum_normalise.append(sum_num)\n",
      "            jaccard_normalise.append(jac_num)\n",
      "            \n",
      "#for row in table:\n",
      " #   print(row)\n",
      "pd.DataFrame(table)\n",
      "\n",
      "sorted_ranked_list = sorted(ranked_list,key=lambda x: x[1],reverse=True)\n",
      "sorted_ranked_list\n",
      "sorted_normalised_ranked_list = sorted(normalised_ranked_list,key=lambda x: x[1],reverse=True)\n",
      "max_normalise_sorted = sorted(max_normalise,reverse=True)\n",
      "min_normalise_sorted = sorted(min_normalise,reverse=True)\n",
      "sum_normalise_sorted = sorted(sum_normalise,reverse=True)\n",
      "jaccard_normalise_sorted = sorted(jaccard_normalise,reverse=True)\n",
      "\n"
     ],
     "language": "python",
     "metadata": {},
     "outputs": [],
     "prompt_number": 9
    },
    {
     "cell_type": "code",
     "collapsed": false,
     "input": [
      "from itertools import groupby\n",
      "max_counts = [len(list(group)) for key, group in groupby(max_normalise_sorted)]\n",
      "max_unique = sorted(list(set(max_normalise_sorted)))\n",
      "min_counts = [len(list(group)) for key, group in groupby(min_normalise_sorted)]\n",
      "min_unique = sorted(list(set(min_normalise_sorted)))\n",
      "sum_counts = [len(list(group)) for key, group in groupby(sum_normalise_sorted)]\n",
      "sum_unque = sorted(list(set(sum_normalise_sorted)))\n",
      "jac_counts = [len(list(group)) for key, group in groupby(jaccard_normalise_sorted)]\n",
      "jac_unique = sorted(list(set(jaccard_normalise_sorted)))"
     ],
     "language": "python",
     "metadata": {},
     "outputs": [],
     "prompt_number": 13
    },
    {
     "cell_type": "code",
     "collapsed": false,
     "input": [
      "import matplotlib.pyplot as plt\n",
      "plt.plot(max_unique,max_counts, 'ro')\n",
      "plt.savefig()\n",
      "plt.close()"
     ],
     "language": "python",
     "metadata": {},
     "outputs": []
    },
    {
     "cell_type": "code",
     "collapsed": false,
     "input": [
      "plt.plot(max_unique,max_counts, 'ro')\n",
      "plt.show()"
     ],
     "language": "python",
     "metadata": {},
     "outputs": []
    },
    {
     "cell_type": "code",
     "collapsed": false,
     "input": [],
     "language": "python",
     "metadata": {},
     "outputs": []
    }
   ],
   "metadata": {}
  }
 ]
}