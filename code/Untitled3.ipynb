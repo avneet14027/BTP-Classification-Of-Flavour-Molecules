{
 "metadata": {
  "name": "",
  "signature": "sha256:b4218f44601b716bae9b0099cb15e92ebbc459be425d63199b0b333f65e817d1"
 },
 "nbformat": 3,
 "nbformat_minor": 0,
 "worksheets": [
  {
   "cells": [
    {
     "cell_type": "code",
     "collapsed": false,
     "input": [
      "from sklearn import datasets\n",
      "from sklearn.preprocessing import Imputer\n",
      "import numpy as np\n",
      "import matplotlib.pyplot as plt\n",
      "\n",
      "from sklearn.decomposition import PCA, FastICA"
     ],
     "language": "python",
     "metadata": {},
     "outputs": [],
     "prompt_number": 28
    },
    {
     "cell_type": "code",
     "collapsed": false,
     "input": [
      "X = datasets.load_iris().data\n",
      "imp = Imputer(missing_values='NaN', strategy='mean', axis=0)\n",
      "imp.fit(X)\n",
      "\n",
      "\n"
     ],
     "language": "python",
     "metadata": {},
     "outputs": [
      {
       "metadata": {},
       "output_type": "pyout",
       "prompt_number": 29,
       "text": [
        "Imputer(axis=0, copy=True, missing_values='NaN', strategy='mean', verbose=0)"
       ]
      }
     ],
     "prompt_number": 29
    },
    {
     "cell_type": "code",
     "collapsed": false,
     "input": [],
     "language": "python",
     "metadata": {},
     "outputs": [],
     "prompt_number": 29
    },
    {
     "cell_type": "code",
     "collapsed": false,
     "input": [
      "ica = FastICA(n_components=2)\n",
      "X_trans = ica.fit_transform(X)\n",
      "#print X_trans\n",
      "#print ica.components_\n",
      "plt.figure()\n",
      "plt.scatter(X_trans[:, 0], X_trans[:, 1])\n",
      "plt.savefig(\"icatest.png\")"
     ],
     "language": "python",
     "metadata": {},
     "outputs": [],
     "prompt_number": 30
    },
    {
     "cell_type": "code",
     "collapsed": false,
     "input": [
      "import matplotlib.pyplot as plt\n",
      "\n",
      "from sklearn import datasets\n",
      "from sklearn.decomposition import PCA\n",
      "\n",
      "iris = datasets.load_iris()\n",
      "X = iris.data\n",
      "y = iris.target\n",
      "target_names = iris.target_names\n",
      "ica = FastICA(n_components=4)\n",
      "X_r = ica.fit(X).transform(X)\n",
      "plt.figure()\n",
      "colors = ['navy', 'turquoise', 'darkorange']\n",
      "lw = 2\n",
      "\n",
      "for color, i, target_name in zip(colors, [0, 1, 2], target_names):\n",
      "    plt.scatter(X_r[y == i, 0], X_r[y == i, 1], color=color, alpha=.8, lw=lw,\n",
      "                label=target_name)\n",
      "plt.legend(loc='best', shadow=False, scatterpoints=1)\n",
      "plt.title('PCA of IRIS dataset')\n",
      "plt.savefig('icaa123.png')"
     ],
     "language": "python",
     "metadata": {},
     "outputs": [],
     "prompt_number": 35
    },
    {
     "cell_type": "code",
     "collapsed": false,
     "input": [],
     "language": "python",
     "metadata": {},
     "outputs": []
    }
   ],
   "metadata": {}
  }
 ]
}